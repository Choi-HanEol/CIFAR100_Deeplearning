{
 "cells": [
  {
   "cell_type": "code",
   "execution_count": 1,
   "metadata": {
    "executionInfo": {
     "elapsed": 4218,
     "status": "ok",
     "timestamp": 1699204423783,
     "user": {
      "displayName": "최한얼",
      "userId": "07324773000759146887"
     },
     "user_tz": -540
    },
    "id": "XuMw25t7AeZr"
   },
   "outputs": [
    {
     "data": {
      "text/plain": [
       "device(type='cuda')"
      ]
     },
     "execution_count": 1,
     "metadata": {},
     "output_type": "execute_result"
    }
   ],
   "source": [
    "import torch\n",
    "import torch.nn as nn\n",
    "import torch.optim as optim\n",
    "import torch.nn.functional as F\n",
    "from torchvision import transforms, datasets, models\n",
    "import matplotlib.pyplot as plt\n",
    "import numpy as np\n",
    "import os    \n",
    "os.environ['KMP_DUPLICATE_LIB_OK']='True'\n",
    "\n",
    "USE_CUDA = torch.cuda.is_available()\n",
    "DEVICE = torch.device(\"cuda\" if USE_CUDA else \"cpu\")\n",
    "DEVICE"
   ]
  },
  {
   "cell_type": "code",
   "execution_count": 2,
   "metadata": {
    "executionInfo": {
     "elapsed": 1519,
     "status": "ok",
     "timestamp": 1699204425301,
     "user": {
      "displayName": "최한얼",
      "userId": "07324773000759146887"
     },
     "user_tz": -540
    },
    "id": "6Dlgx8YqF9it"
   },
   "outputs": [],
   "source": [
    "# Set hyper parameters\n",
    "EPOCHS = 100\n",
    "BATCH_SIZE = 256"
   ]
  },
  {
   "cell_type": "markdown",
   "metadata": {
    "id": "qa8Vsb1HJHYe"
   },
   "source": [
    "## Load dataset\n",
    "\n"
   ]
  },
  {
   "cell_type": "code",
   "execution_count": 3,
   "metadata": {
    "colab": {
     "base_uri": "https://localhost:8080/"
    },
    "executionInfo": {
     "elapsed": 1333,
     "status": "ok",
     "timestamp": 1699204426633,
     "user": {
      "displayName": "최한얼",
      "userId": "07324773000759146887"
     },
     "user_tz": -540
    },
    "id": "ZtL9HIZbGCbY",
    "outputId": "9233e9e4-7aa8-43aa-f43e-a621ec7cfc69"
   },
   "outputs": [
    {
     "name": "stdout",
     "output_type": "stream",
     "text": [
      "Files already downloaded and verified\n"
     ]
    }
   ],
   "source": [
    "train_loader = torch.utils.data.DataLoader(\n",
    "datasets.CIFAR100('./.data',\n",
    "  train=True,\n",
    "  download=True,\n",
    "  transform=transforms.Compose([\n",
    "  transforms.RandomCrop(32, padding=4),\n",
    "  transforms.RandomHorizontalFlip(),\n",
    "  transforms.ToTensor(),\n",
    "  transforms.Normalize((0.5, 0.5, 0.5),\n",
    "  (0.5, 0.5, 0.5))])),\n",
    "  batch_size=BATCH_SIZE, shuffle=True)\n",
    "\n",
    "test_loader = torch.utils.data.DataLoader(\n",
    "datasets.CIFAR100('./.data',\n",
    "  train=False,\n",
    "  transform=transforms.Compose([\n",
    "  transforms.ToTensor(),\n",
    "  transforms.Normalize((0.5, 0.5, 0.5),\n",
    "  (0.5, 0.5, 0.5))])),\n",
    "  batch_size=BATCH_SIZE, shuffle=True)\n"
   ]
  },
  {
   "cell_type": "markdown",
   "metadata": {
    "id": "rcaOmFnhJHqn"
   },
   "source": [
    "# 1. DNN"
   ]
  },
  {
   "cell_type": "code",
   "execution_count": 4,
   "metadata": {
    "id": "nHAlKKPTMErc"
   },
   "outputs": [],
   "source": [
    "class Net(nn.Module):\n",
    "  def __init__(self):\n",
    "    super(Net, self).__init__()\n",
    "    self.fc1 = nn.Linear(3*32*32, 256)\n",
    "    self.fc2 = nn.Linear(256, 128)\n",
    "    self.fc3 = nn.Linear(128, 100) # CIFAR100 데이터는 100개의 클래스로 분류되기 때문에 100으로 수정\n",
    "  def forward(self, x):\n",
    "    x = x.view(-1, 3*32*32)\n",
    "    x = F.relu(self.fc1(x))\n",
    "    x = F.relu(self.fc2(x))\n",
    "    x = self.fc3(x)\n",
    "    return x"
   ]
  },
  {
   "cell_type": "code",
   "execution_count": 5,
   "metadata": {
    "id": "IoA1Al9KMTtj"
   },
   "outputs": [],
   "source": [
    "model = Net().to(DEVICE)\n",
    "optimizer = optim.SGD(model.parameters(),lr=0.01)"
   ]
  },
  {
   "cell_type": "code",
   "execution_count": 6,
   "metadata": {
    "id": "QrbfGOzBMTpq"
   },
   "outputs": [],
   "source": [
    "def train(model, train_loader, optimizer):\n",
    "  model.train()\n",
    "  for batch_idx, (data, target) in enumerate(train_loader):\n",
    "    data, target = data.to(DEVICE), target.to(DEVICE) # 학습 데이터를 DEVICE의 메모리로 보냄\n",
    "    optimizer.zero_grad()\n",
    "    output = model(data)\n",
    "    loss = F.cross_entropy(output, target)\n",
    "    loss.backward()\n",
    "    optimizer.step()\n"
   ]
  },
  {
   "cell_type": "code",
   "execution_count": 7,
   "metadata": {
    "id": "eduptji4MTnX"
   },
   "outputs": [],
   "source": [
    "def evaluate(model, test_loader):\n",
    "  model.eval()\n",
    "  test_loss = 0\n",
    "  correct = 0\n",
    "  with torch.no_grad():\n",
    "    for data, target in test_loader:\n",
    "      data, target = data.to(DEVICE), target.to(DEVICE)\n",
    "      output = model(data)\n",
    "      # 모든 오차 더하기\n",
    "      test_loss += F.cross_entropy(output, target, reduction='sum').item()\n",
    "      # 가장 큰 값을 가진 클래스가 모델의 예측입니다.\n",
    "      # 예측과 정답을 비교하여 일치할 경우 correct에 1을 더합니다.\n",
    "      pred = output.max(1, keepdim=True)[1]\n",
    "      correct += pred.eq(target.view_as(pred)).sum().item()\n",
    "  test_loss /= len(test_loader.dataset)\n",
    "  test_accuracy = 100. * correct / len(test_loader.dataset)\n",
    "  return test_loss, test_accuracy\n"
   ]
  },
  {
   "cell_type": "code",
   "execution_count": 8,
   "metadata": {
    "colab": {
     "base_uri": "https://localhost:8080/"
    },
    "executionInfo": {
     "elapsed": 224921,
     "status": "ok",
     "timestamp": 1699113246482,
     "user": {
      "displayName": "최한얼",
      "userId": "07324773000759146887"
     },
     "user_tz": -540
    },
    "id": "_M9x2v8RMTlT",
    "outputId": "b69bf627-4b31-4861-f000-85b7982ce9d3"
   },
   "outputs": [
    {
     "name": "stdout",
     "output_type": "stream",
     "text": [
      "[1] Test Loss: 4.5888, Accuracy: 1.87%\n",
      "[2] Test Loss: 4.5634, Accuracy: 3.32%\n",
      "[3] Test Loss: 4.5217, Accuracy: 3.92%\n",
      "[4] Test Loss: 4.4537, Accuracy: 4.40%\n",
      "[5] Test Loss: 4.3613, Accuracy: 4.90%\n",
      "[6] Test Loss: 4.2757, Accuracy: 5.49%\n",
      "[7] Test Loss: 4.2116, Accuracy: 6.50%\n",
      "[8] Test Loss: 4.1665, Accuracy: 6.75%\n",
      "[9] Test Loss: 4.1306, Accuracy: 7.45%\n",
      "[10] Test Loss: 4.1017, Accuracy: 7.47%\n",
      "[11] Test Loss: 4.0773, Accuracy: 8.14%\n",
      "[12] Test Loss: 4.0535, Accuracy: 8.21%\n",
      "[13] Test Loss: 4.0343, Accuracy: 8.57%\n",
      "[14] Test Loss: 4.0147, Accuracy: 9.01%\n",
      "[15] Test Loss: 3.9961, Accuracy: 9.20%\n",
      "[16] Test Loss: 3.9775, Accuracy: 9.24%\n",
      "[17] Test Loss: 3.9584, Accuracy: 9.79%\n",
      "[18] Test Loss: 3.9409, Accuracy: 10.04%\n",
      "[19] Test Loss: 3.9264, Accuracy: 10.09%\n",
      "[20] Test Loss: 3.9148, Accuracy: 10.12%\n",
      "[21] Test Loss: 3.8947, Accuracy: 10.66%\n",
      "[22] Test Loss: 3.8848, Accuracy: 10.54%\n",
      "[23] Test Loss: 3.8715, Accuracy: 11.11%\n",
      "[24] Test Loss: 3.8568, Accuracy: 11.32%\n",
      "[25] Test Loss: 3.8485, Accuracy: 11.43%\n",
      "[26] Test Loss: 3.8355, Accuracy: 11.42%\n",
      "[27] Test Loss: 3.8294, Accuracy: 11.52%\n",
      "[28] Test Loss: 3.8171, Accuracy: 11.94%\n",
      "[29] Test Loss: 3.8007, Accuracy: 12.25%\n",
      "[30] Test Loss: 3.7947, Accuracy: 12.15%\n",
      "[31] Test Loss: 3.7850, Accuracy: 12.47%\n",
      "[32] Test Loss: 3.7726, Accuracy: 12.79%\n",
      "[33] Test Loss: 3.7634, Accuracy: 13.24%\n",
      "[34] Test Loss: 3.7590, Accuracy: 12.97%\n",
      "[35] Test Loss: 3.7525, Accuracy: 13.14%\n",
      "[36] Test Loss: 3.7385, Accuracy: 13.58%\n",
      "[37] Test Loss: 3.7318, Accuracy: 13.53%\n",
      "[38] Test Loss: 3.7232, Accuracy: 13.85%\n",
      "[39] Test Loss: 3.7169, Accuracy: 13.76%\n",
      "[40] Test Loss: 3.7065, Accuracy: 14.12%\n",
      "[41] Test Loss: 3.6971, Accuracy: 14.48%\n",
      "[42] Test Loss: 3.6914, Accuracy: 14.50%\n",
      "[43] Test Loss: 3.6956, Accuracy: 14.35%\n",
      "[44] Test Loss: 3.6836, Accuracy: 14.52%\n",
      "[45] Test Loss: 3.6751, Accuracy: 14.56%\n",
      "[46] Test Loss: 3.6640, Accuracy: 14.94%\n",
      "[47] Test Loss: 3.6635, Accuracy: 14.83%\n",
      "[48] Test Loss: 3.6511, Accuracy: 15.25%\n",
      "[49] Test Loss: 3.6461, Accuracy: 15.36%\n",
      "[50] Test Loss: 3.6422, Accuracy: 15.45%\n",
      "[51] Test Loss: 3.6312, Accuracy: 15.41%\n",
      "[52] Test Loss: 3.6318, Accuracy: 15.37%\n",
      "[53] Test Loss: 3.6218, Accuracy: 15.72%\n",
      "[54] Test Loss: 3.6187, Accuracy: 15.78%\n",
      "[55] Test Loss: 3.6222, Accuracy: 15.77%\n",
      "[56] Test Loss: 3.6068, Accuracy: 15.84%\n",
      "[57] Test Loss: 3.5934, Accuracy: 16.24%\n",
      "[58] Test Loss: 3.5963, Accuracy: 16.26%\n",
      "[59] Test Loss: 3.5956, Accuracy: 16.03%\n",
      "[60] Test Loss: 3.5787, Accuracy: 16.47%\n",
      "[61] Test Loss: 3.5839, Accuracy: 16.33%\n",
      "[62] Test Loss: 3.5738, Accuracy: 16.45%\n",
      "[63] Test Loss: 3.5717, Accuracy: 16.64%\n",
      "[64] Test Loss: 3.5641, Accuracy: 16.53%\n",
      "[65] Test Loss: 3.5588, Accuracy: 16.61%\n",
      "[66] Test Loss: 3.5599, Accuracy: 16.91%\n",
      "[67] Test Loss: 3.5569, Accuracy: 16.99%\n",
      "[68] Test Loss: 3.5540, Accuracy: 16.85%\n",
      "[69] Test Loss: 3.5446, Accuracy: 16.78%\n",
      "[70] Test Loss: 3.5380, Accuracy: 17.18%\n",
      "[71] Test Loss: 3.5305, Accuracy: 17.27%\n",
      "[72] Test Loss: 3.5346, Accuracy: 16.99%\n",
      "[73] Test Loss: 3.5249, Accuracy: 17.56%\n",
      "[74] Test Loss: 3.5256, Accuracy: 17.46%\n",
      "[75] Test Loss: 3.5194, Accuracy: 17.46%\n",
      "[76] Test Loss: 3.5135, Accuracy: 17.63%\n",
      "[77] Test Loss: 3.5032, Accuracy: 17.61%\n",
      "[78] Test Loss: 3.5034, Accuracy: 17.67%\n",
      "[79] Test Loss: 3.5038, Accuracy: 17.49%\n",
      "[80] Test Loss: 3.4955, Accuracy: 18.00%\n",
      "[81] Test Loss: 3.4987, Accuracy: 17.65%\n",
      "[82] Test Loss: 3.4874, Accuracy: 18.12%\n",
      "[83] Test Loss: 3.4799, Accuracy: 17.87%\n",
      "[84] Test Loss: 3.4862, Accuracy: 17.97%\n",
      "[85] Test Loss: 3.4781, Accuracy: 18.05%\n",
      "[86] Test Loss: 3.4790, Accuracy: 18.01%\n",
      "[87] Test Loss: 3.4730, Accuracy: 18.37%\n",
      "[88] Test Loss: 3.4722, Accuracy: 18.07%\n",
      "[89] Test Loss: 3.4601, Accuracy: 18.49%\n",
      "[90] Test Loss: 3.4631, Accuracy: 18.17%\n",
      "[91] Test Loss: 3.4596, Accuracy: 18.54%\n",
      "[92] Test Loss: 3.4572, Accuracy: 18.37%\n",
      "[93] Test Loss: 3.4591, Accuracy: 18.40%\n",
      "[94] Test Loss: 3.4501, Accuracy: 18.78%\n",
      "[95] Test Loss: 3.4430, Accuracy: 18.60%\n",
      "[96] Test Loss: 3.4372, Accuracy: 18.91%\n",
      "[97] Test Loss: 3.4411, Accuracy: 18.77%\n",
      "[98] Test Loss: 3.4424, Accuracy: 18.73%\n",
      "[99] Test Loss: 3.4370, Accuracy: 18.91%\n",
      "[100] Test Loss: 3.4292, Accuracy: 18.77%\n"
     ]
    }
   ],
   "source": [
    "test_loss_history = []\n",
    "test_accuracy_history = []\n",
    "for epoch in range(1, EPOCHS + 1):\n",
    "  train(model, train_loader, optimizer)\n",
    "  test_loss, test_accuracy = evaluate(model, test_loader)\n",
    "  test_loss_history.append(test_loss)\n",
    "  test_accuracy_history.append(test_accuracy)\n",
    "  print('[{}] Test Loss: {:.4f}, Accuracy: {:.2f}%'.format(\n",
    "    epoch, test_loss, test_accuracy))"
   ]
  },
  {
   "cell_type": "code",
   "execution_count": 9,
   "metadata": {},
   "outputs": [],
   "source": [
    "torch.save(model.state_dict(), 'DNN.pt')"
   ]
  },
  {
   "cell_type": "code",
   "execution_count": 10,
   "metadata": {
    "colab": {
     "base_uri": "https://localhost:8080/",
     "height": 407
    },
    "executionInfo": {
     "elapsed": 1216,
     "status": "ok",
     "timestamp": 1699113247689,
     "user": {
      "displayName": "최한얼",
      "userId": "07324773000759146887"
     },
     "user_tz": -540
    },
    "id": "bNRMx1UOMTjE",
    "outputId": "e5cbae3e-b8aa-45f2-d2ac-c40cb2d891c8"
   },
   "outputs": [
    {
     "data": {
      "image/png": "[encoded data removed]",
      "text/plain": [
       "<Figure size 1200x400 with 2 Axes>"
      ]
     },
     "metadata": {},
     "output_type": "display_data"
    }
   ],
   "source": [
    "plt.figure(figsize=(12, 4))\n",
    "\n",
    "# 그래프 1: 테스트 손실 시각화\n",
    "plt.subplot(1, 2, 1)\n",
    "plt.plot(range(1, EPOCHS + 1), test_loss_history, linestyle='-', color='b')\n",
    "plt.title('Test Loss Over Epochs')\n",
    "plt.xlabel('Epoch')\n",
    "plt.ylabel('Test Loss')\n",
    "\n",
    "# 그래프 2: 테스트 정확도 시각화\n",
    "plt.subplot(1, 2, 2)\n",
    "plt.plot(range(1, EPOCHS + 1), test_accuracy_history, linestyle='-', color='g')\n",
    "plt.title('Test Accuracy Over Epochs')\n",
    "plt.xlabel('Epoch')\n",
    "plt.ylabel('Test Accuracy (%)')\n",
    "\n",
    "plt.tight_layout()\n",
    "plt.show()"
   ]
  },
  {
   "cell_type": "code",
   "execution_count": 11,
   "metadata": {
    "colab": {
     "base_uri": "https://localhost:8080/"
    },
    "executionInfo": {
     "elapsed": 6,
     "status": "ok",
     "timestamp": 1699113247689,
     "user": {
      "displayName": "최한얼",
      "userId": "07324773000759146887"
     },
     "user_tz": -540
    },
    "id": "9Kfw0rQxMTbI",
    "outputId": "bac996ed-3107-4979-c8ea-6964094684d5"
   },
   "outputs": [
    {
     "name": "stdout",
     "output_type": "stream",
     "text": [
      "최소 loss값:  3.429167110443115\n",
      "최대 acc값:  18.91\n"
     ]
    }
   ],
   "source": [
    "print(\"최소 loss값: \", min(test_loss_history))\n",
    "print(\"최대 acc값: \", max(test_accuracy_history))"
   ]
  },
  {
   "cell_type": "markdown",
   "metadata": {
    "id": "tHDQEuLBMTCH"
   },
   "source": [
    "# 2. CNN"
   ]
  },
  {
   "cell_type": "code",
   "execution_count": 12,
   "metadata": {
    "id": "_hxI-nBpTGO6"
   },
   "outputs": [],
   "source": [
    "class CNN(nn.Module):\n",
    "  def __init__(self):\n",
    "    super(CNN, self).__init__()\n",
    "    self.conv1 = nn.Conv2d(3, 10, kernel_size=5)  #CIFAR100은 채널이 3개인 데이터셋이라 input채널 수를 1에서 3으로 변경\n",
    "    self.conv2 = nn.Conv2d(10, 20, kernel_size=5)\n",
    "    self.conv2_drop = nn.Dropout2d()\n",
    "    self.fc1 = nn.Linear(20*5*5, 50)\n",
    "    self.fc2 = nn.Linear(50, 100)\n",
    "  def forward(self, x):\n",
    "    x = F.relu(F.max_pool2d(self.conv1(x), 2))\n",
    "    x = F.relu(F.max_pool2d(self.conv2_drop(self.conv2(x)), 2))\n",
    "    # print(x.shape) #x.shape()\n",
    "    x = x.view(-1, 20*5*5)\n",
    "    x = F.relu(self.fc1(x))\n",
    "    x = F.dropout(x, training=self.training)\n",
    "    x = self.fc2(x)\n",
    "    return x"
   ]
  },
  {
   "cell_type": "code",
   "execution_count": 13,
   "metadata": {
    "id": "rFINL8I7TGRL"
   },
   "outputs": [],
   "source": [
    "model = CNN().to(DEVICE)\n",
    "optimizer = optim.SGD(model.parameters(), lr=0.01)"
   ]
  },
  {
   "cell_type": "code",
   "execution_count": 14,
   "metadata": {
    "id": "QwwKsXF0TGTa"
   },
   "outputs": [],
   "source": [
    "def train(model, train_loader, optimizer):\n",
    "  model.train()\n",
    "  for batch_idx, (data, target) in enumerate(train_loader):\n",
    "    data, target = data.to(DEVICE), target.to(DEVICE)\n",
    "    optimizer.zero_grad()\n",
    "    output = model(data)\n",
    "    loss = F.cross_entropy(output, target)\n",
    "    loss.backward()\n",
    "    optimizer.step()\n",
    "\n"
   ]
  },
  {
   "cell_type": "code",
   "execution_count": 15,
   "metadata": {
    "id": "D8Xde3jPTGVY"
   },
   "outputs": [],
   "source": [
    "def evaluate(model, test_loader):\n",
    "  model.eval()\n",
    "  test_loss = 0\n",
    "  correct = 0\n",
    "  with torch.no_grad():\n",
    "    for data, target in test_loader:\n",
    "      data, target = data.to(DEVICE), target.to(DEVICE)\n",
    "      output = model(data)\n",
    "      # 배치 오차를 합산\n",
    "      test_loss += F.cross_entropy(output, target, reduction='sum').item()\n",
    "      # 가장 높은 값을 가진 인덱스가 바로 예측값\n",
    "      pred = output.max(1, keepdim=True)[1]\n",
    "      correct += pred.eq(target.view_as(pred)).sum().item()\n",
    "  test_loss /= len(test_loader.dataset)\n",
    "  test_accuracy = 100. * correct / len(test_loader.dataset)\n",
    "  return test_loss, test_accuracy"
   ]
  },
  {
   "cell_type": "code",
   "execution_count": 16,
   "metadata": {
    "colab": {
     "base_uri": "https://localhost:8080/"
    },
    "executionInfo": {
     "elapsed": 224818,
     "status": "ok",
     "timestamp": 1699113472503,
     "user": {
      "displayName": "최한얼",
      "userId": "07324773000759146887"
     },
     "user_tz": -540
    },
    "id": "W9LPaz1sTGXO",
    "outputId": "d5fa1ef3-ea52-4b24-816b-083699104103"
   },
   "outputs": [
    {
     "name": "stdout",
     "output_type": "stream",
     "text": [
      "[1] Test Loss: 4.6063, Accuracy: 1.09%\n",
      "[2] Test Loss: 4.6048, Accuracy: 1.23%\n",
      "[3] Test Loss: 4.6028, Accuracy: 1.51%\n",
      "[4] Test Loss: 4.5994, Accuracy: 1.60%\n",
      "[5] Test Loss: 4.5921, Accuracy: 1.51%\n",
      "[6] Test Loss: 4.5783, Accuracy: 1.53%\n",
      "[7] Test Loss: 4.5580, Accuracy: 1.44%\n",
      "[8] Test Loss: 4.5389, Accuracy: 1.72%\n",
      "[9] Test Loss: 4.5186, Accuracy: 2.03%\n",
      "[10] Test Loss: 4.5048, Accuracy: 2.28%\n",
      "[11] Test Loss: 4.4837, Accuracy: 2.47%\n",
      "[12] Test Loss: 4.4676, Accuracy: 2.48%\n",
      "[13] Test Loss: 4.4478, Accuracy: 2.47%\n",
      "[14] Test Loss: 4.4315, Accuracy: 2.89%\n",
      "[15] Test Loss: 4.4176, Accuracy: 2.57%\n",
      "[16] Test Loss: 4.4037, Accuracy: 2.81%\n",
      "[17] Test Loss: 4.3916, Accuracy: 3.07%\n",
      "[18] Test Loss: 4.3841, Accuracy: 3.03%\n",
      "[19] Test Loss: 4.3735, Accuracy: 2.99%\n",
      "[20] Test Loss: 4.3646, Accuracy: 3.08%\n",
      "[21] Test Loss: 4.3542, Accuracy: 3.31%\n",
      "[22] Test Loss: 4.3417, Accuracy: 3.36%\n",
      "[23] Test Loss: 4.3355, Accuracy: 3.58%\n",
      "[24] Test Loss: 4.3236, Accuracy: 3.91%\n",
      "[25] Test Loss: 4.3166, Accuracy: 3.96%\n",
      "[26] Test Loss: 4.3063, Accuracy: 4.21%\n",
      "[27] Test Loss: 4.2941, Accuracy: 4.41%\n",
      "[28] Test Loss: 4.2811, Accuracy: 4.73%\n",
      "[29] Test Loss: 4.2682, Accuracy: 4.94%\n",
      "[30] Test Loss: 4.2556, Accuracy: 5.14%\n",
      "[31] Test Loss: 4.2475, Accuracy: 5.64%\n",
      "[32] Test Loss: 4.2325, Accuracy: 5.95%\n",
      "[33] Test Loss: 4.2221, Accuracy: 6.52%\n",
      "[34] Test Loss: 4.2043, Accuracy: 6.91%\n",
      "[35] Test Loss: 4.1971, Accuracy: 6.89%\n",
      "[36] Test Loss: 4.1809, Accuracy: 7.17%\n",
      "[37] Test Loss: 4.1697, Accuracy: 7.56%\n",
      "[38] Test Loss: 4.1628, Accuracy: 7.85%\n",
      "[39] Test Loss: 4.1502, Accuracy: 7.75%\n",
      "[40] Test Loss: 4.1360, Accuracy: 8.34%\n",
      "[41] Test Loss: 4.1231, Accuracy: 8.48%\n",
      "[42] Test Loss: 4.1146, Accuracy: 8.84%\n",
      "[43] Test Loss: 4.1009, Accuracy: 8.68%\n",
      "[44] Test Loss: 4.0916, Accuracy: 8.87%\n",
      "[45] Test Loss: 4.0799, Accuracy: 8.97%\n",
      "[46] Test Loss: 4.0744, Accuracy: 9.27%\n",
      "[47] Test Loss: 4.0627, Accuracy: 9.50%\n",
      "[48] Test Loss: 4.0636, Accuracy: 9.95%\n",
      "[49] Test Loss: 4.0442, Accuracy: 9.66%\n",
      "[50] Test Loss: 4.0408, Accuracy: 10.00%\n",
      "[51] Test Loss: 4.0335, Accuracy: 9.77%\n",
      "[52] Test Loss: 4.0262, Accuracy: 9.97%\n",
      "[53] Test Loss: 4.0192, Accuracy: 10.34%\n",
      "[54] Test Loss: 4.0136, Accuracy: 10.32%\n",
      "[55] Test Loss: 4.0035, Accuracy: 10.29%\n",
      "[56] Test Loss: 3.9966, Accuracy: 10.32%\n",
      "[57] Test Loss: 3.9970, Accuracy: 10.53%\n",
      "[58] Test Loss: 3.9888, Accuracy: 11.21%\n",
      "[59] Test Loss: 3.9751, Accuracy: 11.01%\n",
      "[60] Test Loss: 3.9729, Accuracy: 11.08%\n",
      "[61] Test Loss: 3.9706, Accuracy: 10.86%\n",
      "[62] Test Loss: 3.9630, Accuracy: 11.12%\n",
      "[63] Test Loss: 3.9452, Accuracy: 11.15%\n",
      "[64] Test Loss: 3.9497, Accuracy: 11.54%\n",
      "[65] Test Loss: 3.9464, Accuracy: 11.36%\n",
      "[66] Test Loss: 3.9318, Accuracy: 11.69%\n",
      "[67] Test Loss: 3.9316, Accuracy: 11.48%\n",
      "[68] Test Loss: 3.9255, Accuracy: 11.79%\n",
      "[69] Test Loss: 3.9234, Accuracy: 11.73%\n",
      "[70] Test Loss: 3.9119, Accuracy: 11.72%\n",
      "[71] Test Loss: 3.9089, Accuracy: 11.72%\n",
      "[72] Test Loss: 3.9049, Accuracy: 11.99%\n",
      "[73] Test Loss: 3.8956, Accuracy: 12.13%\n",
      "[74] Test Loss: 3.8911, Accuracy: 11.86%\n",
      "[75] Test Loss: 3.8820, Accuracy: 12.11%\n",
      "[76] Test Loss: 3.8785, Accuracy: 12.25%\n",
      "[77] Test Loss: 3.8775, Accuracy: 12.63%\n",
      "[78] Test Loss: 3.8750, Accuracy: 12.20%\n",
      "[79] Test Loss: 3.8675, Accuracy: 12.16%\n",
      "[80] Test Loss: 3.8584, Accuracy: 12.50%\n",
      "[81] Test Loss: 3.8622, Accuracy: 12.28%\n",
      "[82] Test Loss: 3.8525, Accuracy: 12.48%\n",
      "[83] Test Loss: 3.8610, Accuracy: 12.90%\n",
      "[84] Test Loss: 3.8397, Accuracy: 12.98%\n",
      "[85] Test Loss: 3.8470, Accuracy: 13.28%\n",
      "[86] Test Loss: 3.8491, Accuracy: 13.31%\n",
      "[87] Test Loss: 3.8419, Accuracy: 13.00%\n",
      "[88] Test Loss: 3.8342, Accuracy: 13.48%\n",
      "[89] Test Loss: 3.8333, Accuracy: 13.36%\n",
      "[90] Test Loss: 3.8234, Accuracy: 13.14%\n",
      "[91] Test Loss: 3.8207, Accuracy: 13.69%\n",
      "[92] Test Loss: 3.8135, Accuracy: 13.17%\n",
      "[93] Test Loss: 3.8168, Accuracy: 13.59%\n",
      "[94] Test Loss: 3.8145, Accuracy: 13.19%\n",
      "[95] Test Loss: 3.8089, Accuracy: 13.58%\n",
      "[96] Test Loss: 3.8042, Accuracy: 13.68%\n",
      "[97] Test Loss: 3.7959, Accuracy: 13.29%\n",
      "[98] Test Loss: 3.8040, Accuracy: 13.88%\n",
      "[99] Test Loss: 3.7871, Accuracy: 13.59%\n",
      "[100] Test Loss: 3.7905, Accuracy: 13.91%\n"
     ]
    }
   ],
   "source": [
    "test_loss_history = []\n",
    "test_accuracy_history = []\n",
    "for epoch in range(1, EPOCHS + 1):\n",
    "  train(model, train_loader, optimizer)\n",
    "  test_loss, test_accuracy = evaluate(model, test_loader)\n",
    "  test_loss_history.append(test_loss)\n",
    "  test_accuracy_history.append(test_accuracy)\n",
    "  print('[{}] Test Loss: {:.4f}, Accuracy: {:.2f}%'.format(epoch, test_loss, test_accuracy))"
   ]
  },
  {
   "cell_type": "code",
   "execution_count": 17,
   "metadata": {},
   "outputs": [],
   "source": [
    "torch.save(model.state_dict(), 'CNN.pt')"
   ]
  },
  {
   "cell_type": "code",
   "execution_count": 18,
   "metadata": {
    "colab": {
     "base_uri": "https://localhost:8080/",
     "height": 407
    },
    "executionInfo": {
     "elapsed": 746,
     "status": "ok",
     "timestamp": 1699113473247,
     "user": {
      "displayName": "최한얼",
      "userId": "07324773000759146887"
     },
     "user_tz": -540
    },
    "id": "7dZXPz1nTGlp",
    "outputId": "70a14e82-25da-4fb2-a567-815c7c647114"
   },
   "outputs": [
    {
     "data": {
      "image/png": "[encoded data removed]",
      "text/plain": [
       "<Figure size 1200x400 with 2 Axes>"
      ]
     },
     "metadata": {},
     "output_type": "display_data"
    }
   ],
   "source": [
    "plt.figure(figsize=(12, 4))\n",
    "\n",
    "# 그래프 1: 테스트 손실 시각화\n",
    "plt.subplot(1, 2, 1)\n",
    "plt.plot(range(1, EPOCHS + 1), test_loss_history, linestyle='-', color='b')\n",
    "plt.title('Test Loss Over Epochs')\n",
    "plt.xlabel('Epoch')\n",
    "plt.ylabel('Test Loss')\n",
    "\n",
    "# 그래프 2: 테스트 정확도 시각화\n",
    "plt.subplot(1, 2, 2)\n",
    "plt.plot(range(1, EPOCHS + 1), test_accuracy_history, linestyle='-', color='g')\n",
    "plt.title('Test Accuracy Over Epochs')\n",
    "plt.xlabel('Epoch')\n",
    "plt.ylabel('Test Accuracy (%)')\n",
    "\n",
    "plt.tight_layout()\n",
    "plt.show()"
   ]
  },
  {
   "cell_type": "code",
   "execution_count": 19,
   "metadata": {},
   "outputs": [
    {
     "name": "stdout",
     "output_type": "stream",
     "text": [
      "최소 loss값:  3.7870512928009035\n",
      "최대 acc값:  13.91\n"
     ]
    }
   ],
   "source": [
    "print(\"최소 loss값: \", min(test_loss_history))\n",
    "print(\"최대 acc값: \", max(test_accuracy_history))"
   ]
  },
  {
   "cell_type": "markdown",
   "metadata": {
    "id": "ejjW5e3-Y5mO"
   },
   "source": [
    "# 3. ResNet"
   ]
  },
  {
   "cell_type": "code",
   "execution_count": 20,
   "metadata": {
    "id": "epJYkgfjIDca"
   },
   "outputs": [],
   "source": [
    "class BasicBlock(nn.Module):\n",
    "  def __init__(self, in_planes, planes, stride=1):\n",
    "    super(BasicBlock, self).__init__()\n",
    "    self.conv1 = nn.Conv2d(in_planes, planes, kernel_size=3,\n",
    "      stride=stride, padding=1, bias=False)\n",
    "    self.bn1 = nn.BatchNorm2d(planes)\n",
    "    self.conv2 = nn.Conv2d(planes, planes, kernel_size=3,\n",
    "      stride=1, padding=1, bias=False)\n",
    "    self.bn2 = nn.BatchNorm2d(planes)\n",
    "    self.shortcut = nn.Sequential()\n",
    "    if stride != 1 or in_planes != planes:\n",
    "      self.shortcut = nn.Sequential(\n",
    "      nn.Conv2d(in_planes, planes,\n",
    "        kernel_size=1, stride=stride, bias=False),\n",
    "      nn.BatchNorm2d(planes)\n",
    "      )\n",
    "  def forward(self, x):\n",
    "    out = F.relu(self.bn1(self.conv1(x)))\n",
    "    out = self.bn2(self.conv2(out))\n",
    "    out += self.shortcut(x)\n",
    "    out = F.relu(out)\n",
    "    return out\n"
   ]
  },
  {
   "cell_type": "code",
   "execution_count": 21,
   "metadata": {
    "id": "UVN-Hr5tJ7GP"
   },
   "outputs": [],
   "source": [
    "class ResNet(nn.Module):\n",
    "  def __init__(self, num_classes=100):\n",
    "    super(ResNet, self).__init__()\n",
    "    self.in_planes = 16\n",
    "    self.conv1 = nn.Conv2d(3, 16, kernel_size=3, stride=1, padding=1, bias=False)\n",
    "    self.bn1 = nn.BatchNorm2d(16)\n",
    "    self.layer1 = self._make_layer(16, 2, stride=1)\n",
    "    self.layer2 = self._make_layer(32, 2, stride=2)\n",
    "    self.layer3 = self._make_layer(64, 2, stride=2)\n",
    "    self.linear = nn.Linear(64, num_classes)\n",
    "  def _make_layer(self, planes, num_blocks, stride):\n",
    "    strides = [stride] + [1]*(num_blocks-1)\n",
    "    layers = []\n",
    "    for stride in strides:\n",
    "      layers.append(BasicBlock(self.in_planes, planes, stride))\n",
    "      self.in_planes = planes\n",
    "    return nn.Sequential(*layers)\n",
    "  def forward(self, x):\n",
    "    out = F.relu(self.bn1(self.conv1(x)))\n",
    "    out = self.layer1(out)\n",
    "    out = self.layer2(out)\n",
    "    out = self.layer3(out)\n",
    "    out = F.avg_pool2d(out, 8) \n",
    "    out = out.view(out.size(0), -1)\n",
    "    out = self.linear(out)\n",
    "    return out"
   ]
  },
  {
   "cell_type": "code",
   "execution_count": 22,
   "metadata": {
    "id": "XPiFuLhXMIWC"
   },
   "outputs": [],
   "source": [
    "model = ResNet().to(DEVICE)\n",
    "optimizer = optim.SGD(model.parameters(), lr=0.1, momentum=0.9, weight_decay=0.0005)  #Adam으로 바꿔보자\n",
    "scheduler = optim.lr_scheduler.StepLR(optimizer, step_size=50, gamma=0.1)"
   ]
  },
  {
   "cell_type": "code",
   "execution_count": 23,
   "metadata": {
    "id": "WMsEpTcuMsGL"
   },
   "outputs": [],
   "source": [
    "def train(model, train_loader, optimizer):\n",
    "  model.train()\n",
    "  for batch_idx, (data, target) in enumerate(train_loader):\n",
    "    data, target = data.to(DEVICE), target.to(DEVICE) # 학습 데이터를 DEVICE의 메모리로 보냄\n",
    "    optimizer.zero_grad()\n",
    "    output = model(data)\n",
    "    loss = F.cross_entropy(output, target)\n",
    "    loss.backward()\n",
    "    optimizer.step()\n"
   ]
  },
  {
   "cell_type": "code",
   "execution_count": 24,
   "metadata": {
    "id": "DN9hD63aNv0z"
   },
   "outputs": [],
   "source": [
    "def evaluate(model, test_loader):\n",
    "  model.eval()\n",
    "  test_loss = 0\n",
    "  correct = 0\n",
    "  with torch.no_grad():\n",
    "    for data, target in test_loader:\n",
    "      data, target = data.to(DEVICE), target.to(DEVICE)\n",
    "      output = model(data)\n",
    "      test_loss += F.cross_entropy(output, target, reduction='sum').item()\n",
    "      pred = output.max(1, keepdim=True)[1]\n",
    "      correct += pred.eq(target.view_as(pred)).sum().item()\n",
    "  test_loss /= len(test_loader.dataset)\n",
    "  test_accuracy = 100. * correct / len(test_loader.dataset)\n",
    "  return test_loss, test_accuracy\n"
   ]
  },
  {
   "cell_type": "code",
   "execution_count": 25,
   "metadata": {
    "colab": {
     "base_uri": "https://localhost:8080/"
    },
    "executionInfo": {
     "elapsed": 236056,
     "status": "ok",
     "timestamp": 1699113709300,
     "user": {
      "displayName": "최한얼",
      "userId": "07324773000759146887"
     },
     "user_tz": -540
    },
    "id": "3JERIRH2N7K1",
    "outputId": "ee5b3e00-b57f-462b-9cf3-84fa41396e14"
   },
   "outputs": [
    {
     "name": "stderr",
     "output_type": "stream",
     "text": [
      "C:\\Users\\USER\\anaconda3\\lib\\site-packages\\torch\\optim\\lr_scheduler.py:139: UserWarning: Detected call of `lr_scheduler.step()` before `optimizer.step()`. In PyTorch 1.1.0 and later, you should call them in the opposite order: `optimizer.step()` before `lr_scheduler.step()`.  Failure to do this will result in PyTorch skipping the first value of the learning rate schedule. See more details at https://pytorch.org/docs/stable/optim.html#how-to-adjust-learning-rate\n",
      "  warnings.warn(\"Detected call of `lr_scheduler.step()` before `optimizer.step()`. \"\n"
     ]
    },
    {
     "name": "stdout",
     "output_type": "stream",
     "text": [
      "[1] Test Loss: 3.7613, Accuracy: 11.41%\n",
      "[2] Test Loss: 3.4066, Accuracy: 17.69%\n",
      "[3] Test Loss: 3.1946, Accuracy: 22.74%\n",
      "[4] Test Loss: 2.8885, Accuracy: 27.35%\n",
      "[5] Test Loss: 2.7956, Accuracy: 30.12%\n",
      "[6] Test Loss: 2.3479, Accuracy: 37.41%\n",
      "[7] Test Loss: 2.3955, Accuracy: 37.41%\n",
      "[8] Test Loss: 2.6404, Accuracy: 35.07%\n",
      "[9] Test Loss: 2.3859, Accuracy: 39.62%\n",
      "[10] Test Loss: 2.6468, Accuracy: 37.31%\n",
      "[11] Test Loss: 2.4017, Accuracy: 39.71%\n",
      "[12] Test Loss: 2.6180, Accuracy: 37.31%\n",
      "[13] Test Loss: 2.2507, Accuracy: 41.14%\n",
      "[14] Test Loss: 2.2847, Accuracy: 40.40%\n",
      "[15] Test Loss: 2.2014, Accuracy: 42.51%\n",
      "[16] Test Loss: 2.1894, Accuracy: 42.65%\n",
      "[17] Test Loss: 2.3691, Accuracy: 41.58%\n",
      "[18] Test Loss: 2.3423, Accuracy: 41.33%\n",
      "[19] Test Loss: 1.9129, Accuracy: 48.86%\n",
      "[20] Test Loss: 2.2007, Accuracy: 43.91%\n",
      "[21] Test Loss: 2.0470, Accuracy: 45.80%\n",
      "[22] Test Loss: 1.9127, Accuracy: 48.16%\n",
      "[23] Test Loss: 1.9804, Accuracy: 47.86%\n",
      "[24] Test Loss: 2.2259, Accuracy: 44.04%\n",
      "[25] Test Loss: 2.0747, Accuracy: 45.35%\n",
      "[26] Test Loss: 2.3390, Accuracy: 43.42%\n",
      "[27] Test Loss: 1.9266, Accuracy: 49.22%\n",
      "[28] Test Loss: 1.9089, Accuracy: 48.55%\n",
      "[29] Test Loss: 2.4092, Accuracy: 40.59%\n",
      "[30] Test Loss: 2.0630, Accuracy: 46.22%\n",
      "[31] Test Loss: 2.0689, Accuracy: 46.81%\n",
      "[32] Test Loss: 2.2486, Accuracy: 44.31%\n",
      "[33] Test Loss: 2.1852, Accuracy: 44.11%\n",
      "[34] Test Loss: 2.1430, Accuracy: 46.38%\n",
      "[35] Test Loss: 1.9715, Accuracy: 47.96%\n",
      "[36] Test Loss: 1.8903, Accuracy: 49.92%\n",
      "[37] Test Loss: 2.1877, Accuracy: 44.92%\n",
      "[38] Test Loss: 2.2303, Accuracy: 45.26%\n",
      "[39] Test Loss: 1.9842, Accuracy: 49.03%\n",
      "[40] Test Loss: 1.8690, Accuracy: 50.34%\n",
      "[41] Test Loss: 2.1076, Accuracy: 45.62%\n",
      "[42] Test Loss: 2.0367, Accuracy: 48.30%\n",
      "[43] Test Loss: 1.8957, Accuracy: 49.04%\n",
      "[44] Test Loss: 2.0397, Accuracy: 46.93%\n",
      "[45] Test Loss: 2.1578, Accuracy: 46.09%\n",
      "[46] Test Loss: 1.8243, Accuracy: 50.70%\n",
      "[47] Test Loss: 2.0039, Accuracy: 47.81%\n",
      "[48] Test Loss: 2.1636, Accuracy: 45.48%\n",
      "[49] Test Loss: 2.1124, Accuracy: 45.71%\n",
      "[50] Test Loss: 1.3079, Accuracy: 62.42%\n",
      "[51] Test Loss: 1.3021, Accuracy: 62.69%\n",
      "[52] Test Loss: 1.2873, Accuracy: 63.28%\n",
      "[53] Test Loss: 1.2966, Accuracy: 63.00%\n",
      "[54] Test Loss: 1.2827, Accuracy: 63.30%\n",
      "[55] Test Loss: 1.2816, Accuracy: 63.47%\n",
      "[56] Test Loss: 1.2788, Accuracy: 63.59%\n",
      "[57] Test Loss: 1.2837, Accuracy: 63.77%\n",
      "[58] Test Loss: 1.2813, Accuracy: 63.69%\n",
      "[59] Test Loss: 1.2926, Accuracy: 63.55%\n",
      "[60] Test Loss: 1.2990, Accuracy: 63.67%\n",
      "[61] Test Loss: 1.2860, Accuracy: 63.96%\n",
      "[62] Test Loss: 1.2802, Accuracy: 63.36%\n",
      "[63] Test Loss: 1.2855, Accuracy: 64.04%\n",
      "[64] Test Loss: 1.2692, Accuracy: 63.98%\n",
      "[65] Test Loss: 1.2780, Accuracy: 63.89%\n",
      "[66] Test Loss: 1.2918, Accuracy: 63.91%\n",
      "[67] Test Loss: 1.2908, Accuracy: 63.72%\n",
      "[68] Test Loss: 1.3194, Accuracy: 63.29%\n",
      "[69] Test Loss: 1.3332, Accuracy: 63.00%\n",
      "[70] Test Loss: 1.3330, Accuracy: 63.07%\n",
      "[71] Test Loss: 1.3162, Accuracy: 63.11%\n",
      "[72] Test Loss: 1.3033, Accuracy: 63.48%\n",
      "[73] Test Loss: 1.3287, Accuracy: 62.92%\n",
      "[74] Test Loss: 1.3262, Accuracy: 62.46%\n",
      "[75] Test Loss: 1.3328, Accuracy: 62.35%\n",
      "[76] Test Loss: 1.3076, Accuracy: 63.56%\n",
      "[77] Test Loss: 1.3237, Accuracy: 63.03%\n",
      "[78] Test Loss: 1.3353, Accuracy: 62.99%\n",
      "[79] Test Loss: 1.3166, Accuracy: 62.72%\n",
      "[80] Test Loss: 1.3308, Accuracy: 63.44%\n",
      "[81] Test Loss: 1.3348, Accuracy: 63.05%\n",
      "[82] Test Loss: 1.3058, Accuracy: 62.87%\n",
      "[83] Test Loss: 1.3144, Accuracy: 63.07%\n",
      "[84] Test Loss: 1.3612, Accuracy: 62.66%\n",
      "[85] Test Loss: 1.3276, Accuracy: 63.12%\n",
      "[86] Test Loss: 1.3101, Accuracy: 63.57%\n",
      "[87] Test Loss: 1.3432, Accuracy: 63.08%\n",
      "[88] Test Loss: 1.3339, Accuracy: 62.31%\n",
      "[89] Test Loss: 1.3286, Accuracy: 62.56%\n",
      "[90] Test Loss: 1.3269, Accuracy: 63.25%\n",
      "[91] Test Loss: 1.3852, Accuracy: 62.40%\n",
      "[92] Test Loss: 1.3639, Accuracy: 63.04%\n",
      "[93] Test Loss: 1.3569, Accuracy: 62.59%\n",
      "[94] Test Loss: 1.3685, Accuracy: 62.30%\n",
      "[95] Test Loss: 1.3567, Accuracy: 62.63%\n",
      "[96] Test Loss: 1.3885, Accuracy: 62.58%\n",
      "[97] Test Loss: 1.3423, Accuracy: 62.94%\n",
      "[98] Test Loss: 1.3853, Accuracy: 62.39%\n",
      "[99] Test Loss: 1.3772, Accuracy: 62.71%\n",
      "[100] Test Loss: 1.2440, Accuracy: 65.23%\n"
     ]
    }
   ],
   "source": [
    "test_loss_history = []\n",
    "test_accuracy_history = []\n",
    "for epoch in range(1, EPOCHS + 1):\n",
    "  scheduler.step()\n",
    "  train(model, train_loader, optimizer)\n",
    "  test_loss, test_accuracy = evaluate(model, test_loader)\n",
    "  test_loss_history.append(test_loss)\n",
    "  test_accuracy_history.append(test_accuracy)\n",
    "  print('[{}] Test Loss: {:.4f}, Accuracy: {:.2f}%'.format(epoch, test_loss, test_accuracy))"
   ]
  },
  {
   "cell_type": "code",
   "execution_count": 26,
   "metadata": {},
   "outputs": [],
   "source": [
    "torch.save(model.state_dict(), 'ResNet.pt')"
   ]
  },
  {
   "cell_type": "code",
   "execution_count": 27,
   "metadata": {
    "colab": {
     "base_uri": "https://localhost:8080/",
     "height": 407
    },
    "executionInfo": {
     "elapsed": 746,
     "status": "ok",
     "timestamp": 1699113710037,
     "user": {
      "displayName": "최한얼",
      "userId": "07324773000759146887"
     },
     "user_tz": -540
    },
    "id": "4AHamINf_YPp",
    "outputId": "0c25e927-2d7a-4fb7-be61-f15d6dcfbcf5"
   },
   "outputs": [
    {
     "data": {
      "image/png": "[encoded data removed]",
      "text/plain": [
       "<Figure size 1200x400 with 2 Axes>"
      ]
     },
     "metadata": {},
     "output_type": "display_data"
    }
   ],
   "source": [
    "plt.figure(figsize=(12, 4))\n",
    "\n",
    "# 그래프 1: 테스트 손실 시각화\n",
    "plt.subplot(1, 2, 1)\n",
    "plt.plot(range(1, EPOCHS + 1), test_loss_history, linestyle='-', color='b')\n",
    "plt.title('Test Loss Over Epochs')\n",
    "plt.xlabel('Epoch')\n",
    "plt.ylabel('Test Loss')\n",
    "\n",
    "# 그래프 2: 테스트 정확도 시각화\n",
    "plt.subplot(1, 2, 2)\n",
    "plt.plot(range(1, EPOCHS + 1), test_accuracy_history, linestyle='-', color='g')\n",
    "plt.title('Test Accuracy Over Epochs')\n",
    "plt.xlabel('Epoch')\n",
    "plt.ylabel('Test Accuracy (%)')\n",
    "\n",
    "plt.tight_layout()\n",
    "plt.show()"
   ]
  },
  {
   "cell_type": "code",
   "execution_count": 28,
   "metadata": {
    "colab": {
     "base_uri": "https://localhost:8080/"
    },
    "executionInfo": {
     "elapsed": 6,
     "status": "ok",
     "timestamp": 1699113710037,
     "user": {
      "displayName": "최한얼",
      "userId": "07324773000759146887"
     },
     "user_tz": -540
    },
    "id": "owKN4BezOAmf",
    "outputId": "14603cdf-e3a3-4322-dde6-b32d33766af9"
   },
   "outputs": [
    {
     "name": "stdout",
     "output_type": "stream",
     "text": [
      "최소 loss값:  1.2439772972106933\n",
      "최대 acc값:  65.23\n"
     ]
    }
   ],
   "source": [
    "print(\"최소 loss값: \", min(test_loss_history))\n",
    "print(\"최대 acc값: \", max(test_accuracy_history))\n"
   ]
  },
  {
   "cell_type": "markdown",
   "metadata": {
    "id": "hAAkwA32FMg9"
   },
   "source": [
    "# 4.Customize"
   ]
  },
  {
   "cell_type": "code",
   "execution_count": 29,
   "metadata": {},
   "outputs": [],
   "source": [
    "EPOCHS = 200\n",
    "BATCH_SIZE = 16"
   ]
  },
  {
   "cell_type": "code",
   "execution_count": 30,
   "metadata": {},
   "outputs": [
    {
     "name": "stdout",
     "output_type": "stream",
     "text": [
      "Files already downloaded and verified\n"
     ]
    }
   ],
   "source": [
    "train_loader = torch.utils.data.DataLoader(\n",
    "datasets.CIFAR100('./.data',\n",
    "  train=True,\n",
    "  download=True,\n",
    "  transform=transforms.Compose([\n",
    "  transforms.RandomCrop(32, padding=4),\n",
    "  transforms.RandomHorizontalFlip(),\n",
    "  transforms.ToTensor(),\n",
    "  transforms.Normalize((0.5, 0.5, 0.5),\n",
    "  (0.5, 0.5, 0.5))])),\n",
    "  batch_size=BATCH_SIZE, shuffle=True)\n",
    "\n",
    "test_loader = torch.utils.data.DataLoader(\n",
    "datasets.CIFAR100('./.data',\n",
    "  train=False,\n",
    "  transform=transforms.Compose([\n",
    "  transforms.ToTensor(),\n",
    "  transforms.Normalize((0.5, 0.5, 0.5),\n",
    "  (0.5, 0.5, 0.5))])),\n",
    "  batch_size=BATCH_SIZE, shuffle=True)\n"
   ]
  },
  {
   "cell_type": "code",
   "execution_count": 31,
   "metadata": {
    "executionInfo": {
     "elapsed": 556,
     "status": "ok",
     "timestamp": 1699207363192,
     "user": {
      "displayName": "최한얼",
      "userId": "07324773000759146887"
     },
     "user_tz": -540
    },
    "id": "i087UjvRuX8v"
   },
   "outputs": [],
   "source": [
    "class BasicBlock(nn.Module):\n",
    "    def __init__(self, in_planes, planes, stride=1):\n",
    "        super(BasicBlock, self).__init__()\n",
    "        self.conv1 = nn.Conv2d(in_planes, planes, kernel_size=3,\n",
    "          stride=stride, padding=1, bias=False)\n",
    "        self.bn1 = nn.BatchNorm2d(planes)\n",
    "        self.conv2 = nn.Conv2d(planes, planes, kernel_size=3,\n",
    "          stride=1, padding=1, bias=False)\n",
    "        self.bn2 = nn.BatchNorm2d(planes)\n",
    "        self.shortcut = nn.Sequential()\n",
    "        if stride != 1 or in_planes != planes:\n",
    "            self.shortcut = nn.Sequential(\n",
    "            nn.Conv2d(in_planes, planes,\n",
    "            kernel_size=1, stride=stride, bias=False),\n",
    "            nn.BatchNorm2d(planes)\n",
    "            )\n",
    "    def forward(self, x):\n",
    "        out = F.relu(self.bn1(self.conv1(x)))\n",
    "        out = self.bn2(self.conv2(out))\n",
    "        out += self.shortcut(x)\n",
    "        out = F.relu(out)\n",
    "        return out"
   ]
  },
  {
   "cell_type": "code",
   "execution_count": 6,
   "metadata": {
    "executionInfo": {
     "elapsed": 1,
     "status": "ok",
     "timestamp": 1699207364953,
     "user": {
      "displayName": "최한얼",
      "userId": "07324773000759146887"
     },
     "user_tz": -540
    },
    "id": "iSQwNivvFS5l"
   },
   "outputs": [],
   "source": [
    "class ResNet(nn.Module):\n",
    "  def __init__(self, num_classes=100):\n",
    "    super(ResNet, self).__init__()\n",
    "    self.in_planes = 32 # conv1에서 나올 채널의 차원\n",
    "    self.conv1 = nn.Conv2d(3, 32, kernel_size=3, stride=1, padding=1, bias=False)\n",
    "    self.bn1 = nn.BatchNorm2d(32)\n",
    "    self.layer1 = self._make_layer(32, 2, stride=1)\n",
    "    self.layer2 = self._make_layer(64, 2, stride=2)\n",
    "    self.layer3 = self._make_layer(128, 2, stride=2)\n",
    "    self.layer4 = self._make_layer(256, 2, stride=1)\n",
    "    self.layer5 = self._make_layer(512, 2, stride=1)\n",
    "    self.linear = nn.Linear(512, 256)\n",
    "    self.linear1 = nn.Linear(256, num_classes)\n",
    "  def _make_layer(self, planes, num_blocks, stride):\n",
    "    strides = [stride] + [1]*(num_blocks-1)\n",
    "    layers = []\n",
    "    for stride in strides:\n",
    "      layers.append(BasicBlock(self.in_planes, planes, stride))\n",
    "      self.in_planes = planes\n",
    "    return nn.Sequential(*layers)\n",
    "  def forward(self, x):\n",
    "    out = F.relu(self.bn1(self.conv1(x))) \n",
    "    out = self.layer1(out)\n",
    "    out = self.layer2(out)\n",
    "    out = self.layer3(out)\n",
    "    out = self.layer4(out)\n",
    "    out = self.layer5(out)\n",
    "    out = F.max_pool2d(out, 8) \n",
    "    out = out.view(out.size(0), -1)\n",
    "    out = self.linear(out)\n",
    "    out = self.linear1(out)\n",
    "    return out\n"
   ]
  },
  {
   "cell_type": "code",
   "execution_count": 33,
   "metadata": {
    "executionInfo": {
     "elapsed": 2,
     "status": "ok",
     "timestamp": 1699207364954,
     "user": {
      "displayName": "최한얼",
      "userId": "07324773000759146887"
     },
     "user_tz": -540
    },
    "id": "rJSnzitGFVBO"
   },
   "outputs": [],
   "source": [
    "model = ResNet().to(DEVICE)\n",
    "optimizer = optim.Adam(model.parameters(), lr=0.0001,weight_decay=0.0005)  \n",
    "scheduler = optim.lr_scheduler.StepLR(optimizer, step_size=50, gamma=0.1)  #epoch 50 이후에 학습률 0.1의 곱으로 줄어든다"
   ]
  },
  {
   "cell_type": "code",
   "execution_count": 34,
   "metadata": {
    "executionInfo": {
     "elapsed": 2,
     "status": "ok",
     "timestamp": 1699207365478,
     "user": {
      "displayName": "최한얼",
      "userId": "07324773000759146887"
     },
     "user_tz": -540
    },
    "id": "klzYaGBUFZ1G"
   },
   "outputs": [],
   "source": [
    "def train(model, train_loader, optimizer):\n",
    "    model.train()\n",
    "    for batch_idx, (data, target) in enumerate(train_loader):\n",
    "        data, target = data.to(DEVICE), target.to(DEVICE) # 학습 데이터를 DEVICE의 메모리로 보냄\n",
    "        optimizer.zero_grad()\n",
    "        output = model(data)\n",
    "        loss = F.cross_entropy(output, target)\n",
    "        loss.backward()\n",
    "        optimizer.step()"
   ]
  },
  {
   "cell_type": "code",
   "execution_count": 35,
   "metadata": {
    "executionInfo": {
     "elapsed": 1,
     "status": "ok",
     "timestamp": 1699207365478,
     "user": {
      "displayName": "최한얼",
      "userId": "07324773000759146887"
     },
     "user_tz": -540
    },
    "id": "UnBlx4GYFbVq"
   },
   "outputs": [],
   "source": [
    "def evaluate(model, test_loader):\n",
    "    model.eval()\n",
    "    test_loss = 0\n",
    "    correct = 0\n",
    "    with torch.no_grad():\n",
    "        for data, target in test_loader:\n",
    "            data, target = data.to(DEVICE), target.to(DEVICE)\n",
    "            output = model(data)\n",
    "            # print(output)\n",
    "            test_loss += F.cross_entropy(output, target, reduction='sum').item()\n",
    "            pred = output.max(1, keepdim=True)[1]\n",
    "            correct += pred.eq(target.view_as(pred)).sum().item()\n",
    "    test_loss /= len(test_loader.dataset)\n",
    "    test_accuracy = 100. * correct / len(test_loader.dataset)\n",
    "    return test_loss, test_accuracy\n"
   ]
  },
  {
   "cell_type": "code",
   "execution_count": 12,
   "metadata": {
    "colab": {
     "base_uri": "https://localhost:8080/"
    },
    "id": "KfgNoW7SFc3t",
    "outputId": "b0ed353d-1ea6-4359-bb67-3f08e905549e",
    "scrolled": true
   },
   "outputs": [
    {
     "name": "stderr",
     "output_type": "stream",
     "text": [
      "C:\\Users\\USER\\anaconda3\\lib\\site-packages\\torch\\optim\\lr_scheduler.py:139: UserWarning: Detected call of `lr_scheduler.step()` before `optimizer.step()`. In PyTorch 1.1.0 and later, you should call them in the opposite order: `optimizer.step()` before `lr_scheduler.step()`.  Failure to do this will result in PyTorch skipping the first value of the learning rate schedule. See more details at https://pytorch.org/docs/stable/optim.html#how-to-adjust-learning-rate\n",
      "  warnings.warn(\"Detected call of `lr_scheduler.step()` before `optimizer.step()`. \"\n"
     ]
    },
    {
     "name": "stdout",
     "output_type": "stream",
     "text": [
      "[1] Test Loss: 3.3580, Accuracy: 19.20%\n",
      "[2] Test Loss: 2.7432, Accuracy: 30.70%\n",
      "[3] Test Loss: 2.3320, Accuracy: 38.42%\n",
      "[4] Test Loss: 2.1296, Accuracy: 43.46%\n",
      "[5] Test Loss: 1.9906, Accuracy: 46.29%\n",
      "[6] Test Loss: 1.8132, Accuracy: 50.67%\n",
      "[7] Test Loss: 1.6617, Accuracy: 54.05%\n",
      "[8] Test Loss: 1.6727, Accuracy: 54.32%\n",
      "[9] Test Loss: 1.5515, Accuracy: 56.77%\n",
      "[10] Test Loss: 1.5064, Accuracy: 58.18%\n",
      "[11] Test Loss: 1.4155, Accuracy: 60.07%\n",
      "[12] Test Loss: 1.4130, Accuracy: 60.86%\n",
      "[13] Test Loss: 1.4525, Accuracy: 59.95%\n",
      "[14] Test Loss: 1.3611, Accuracy: 62.57%\n",
      "[15] Test Loss: 1.3740, Accuracy: 61.85%\n",
      "[16] Test Loss: 1.3195, Accuracy: 63.88%\n",
      "[17] Test Loss: 1.3430, Accuracy: 63.53%\n",
      "[18] Test Loss: 1.3101, Accuracy: 64.12%\n",
      "[19] Test Loss: 1.3387, Accuracy: 63.40%\n",
      "[20] Test Loss: 1.2982, Accuracy: 65.03%\n",
      "[21] Test Loss: 1.3120, Accuracy: 64.42%\n",
      "[22] Test Loss: 1.2396, Accuracy: 66.86%\n",
      "[23] Test Loss: 1.2478, Accuracy: 66.53%\n",
      "[24] Test Loss: 1.3144, Accuracy: 65.83%\n",
      "[25] Test Loss: 1.3126, Accuracy: 66.50%\n",
      "[26] Test Loss: 1.2862, Accuracy: 66.90%\n",
      "[27] Test Loss: 1.3428, Accuracy: 66.36%\n",
      "[28] Test Loss: 1.3654, Accuracy: 66.56%\n",
      "[29] Test Loss: 1.3413, Accuracy: 66.07%\n",
      "[30] Test Loss: 1.3522, Accuracy: 66.40%\n",
      "[31] Test Loss: 1.3527, Accuracy: 66.09%\n",
      "[32] Test Loss: 1.3360, Accuracy: 67.00%\n",
      "[33] Test Loss: 1.4214, Accuracy: 66.47%\n",
      "[34] Test Loss: 1.4247, Accuracy: 66.21%\n",
      "[35] Test Loss: 1.3636, Accuracy: 67.14%\n",
      "[36] Test Loss: 1.3601, Accuracy: 67.43%\n",
      "[37] Test Loss: 1.4268, Accuracy: 67.46%\n",
      "[38] Test Loss: 1.4041, Accuracy: 66.97%\n",
      "[39] Test Loss: 1.4365, Accuracy: 66.74%\n",
      "[40] Test Loss: 1.4367, Accuracy: 67.06%\n",
      "[41] Test Loss: 1.4425, Accuracy: 67.39%\n",
      "[42] Test Loss: 1.4660, Accuracy: 67.10%\n",
      "[43] Test Loss: 1.4223, Accuracy: 67.33%\n",
      "[44] Test Loss: 1.4566, Accuracy: 67.20%\n",
      "[45] Test Loss: 1.4500, Accuracy: 67.24%\n",
      "[46] Test Loss: 1.4368, Accuracy: 67.11%\n",
      "[47] Test Loss: 1.4269, Accuracy: 67.32%\n",
      "[48] Test Loss: 1.4263, Accuracy: 67.74%\n",
      "[49] Test Loss: 1.4791, Accuracy: 66.96%\n",
      "[50] Test Loss: 1.2270, Accuracy: 71.97%\n",
      "[51] Test Loss: 1.2253, Accuracy: 72.20%\n",
      "[52] Test Loss: 1.2332, Accuracy: 72.39%\n",
      "[53] Test Loss: 1.2400, Accuracy: 72.21%\n",
      "[54] Test Loss: 1.2402, Accuracy: 72.63%\n",
      "[55] Test Loss: 1.2410, Accuracy: 73.15%\n",
      "[56] Test Loss: 1.2687, Accuracy: 73.02%\n",
      "[57] Test Loss: 1.2632, Accuracy: 73.09%\n",
      "[58] Test Loss: 1.2675, Accuracy: 72.91%\n",
      "[59] Test Loss: 1.2606, Accuracy: 73.04%\n",
      "[60] Test Loss: 1.2911, Accuracy: 73.21%\n",
      "[61] Test Loss: 1.2903, Accuracy: 72.99%\n",
      "[62] Test Loss: 1.2844, Accuracy: 73.10%\n",
      "[63] Test Loss: 1.2757, Accuracy: 73.17%\n",
      "[64] Test Loss: 1.3141, Accuracy: 72.89%\n",
      "[65] Test Loss: 1.3035, Accuracy: 72.93%\n",
      "[66] Test Loss: 1.3228, Accuracy: 73.09%\n",
      "[67] Test Loss: 1.3016, Accuracy: 73.14%\n",
      "[68] Test Loss: 1.3115, Accuracy: 72.76%\n",
      "[69] Test Loss: 1.3077, Accuracy: 72.83%\n",
      "[70] Test Loss: 1.3212, Accuracy: 72.74%\n",
      "[71] Test Loss: 1.3283, Accuracy: 72.50%\n",
      "[72] Test Loss: 1.3242, Accuracy: 72.99%\n",
      "[73] Test Loss: 1.3324, Accuracy: 72.99%\n",
      "[74] Test Loss: 1.3158, Accuracy: 73.03%\n",
      "[75] Test Loss: 1.3299, Accuracy: 72.78%\n",
      "[76] Test Loss: 1.3219, Accuracy: 72.91%\n",
      "[77] Test Loss: 1.3259, Accuracy: 73.00%\n",
      "[78] Test Loss: 1.3211, Accuracy: 72.74%\n",
      "[79] Test Loss: 1.3165, Accuracy: 73.02%\n",
      "[80] Test Loss: 1.3213, Accuracy: 72.91%\n",
      "[81] Test Loss: 1.3331, Accuracy: 73.03%\n",
      "[82] Test Loss: 1.3220, Accuracy: 72.87%\n",
      "[83] Test Loss: 1.3232, Accuracy: 72.85%\n",
      "[84] Test Loss: 1.3284, Accuracy: 72.90%\n",
      "[85] Test Loss: 1.3256, Accuracy: 72.84%\n",
      "[86] Test Loss: 1.3217, Accuracy: 73.28%\n",
      "[87] Test Loss: 1.3387, Accuracy: 72.96%\n",
      "[88] Test Loss: 1.3128, Accuracy: 73.30%\n",
      "[89] Test Loss: 1.3307, Accuracy: 72.98%\n",
      "[90] Test Loss: 1.3211, Accuracy: 72.90%\n",
      "[91] Test Loss: 1.3404, Accuracy: 72.65%\n",
      "[92] Test Loss: 1.3237, Accuracy: 73.04%\n",
      "[93] Test Loss: 1.3403, Accuracy: 72.94%\n",
      "[94] Test Loss: 1.3352, Accuracy: 72.63%\n",
      "[95] Test Loss: 1.3397, Accuracy: 72.61%\n",
      "[96] Test Loss: 1.3364, Accuracy: 72.66%\n",
      "[97] Test Loss: 1.3230, Accuracy: 72.75%\n",
      "[98] Test Loss: 1.3359, Accuracy: 72.67%\n",
      "[99] Test Loss: 1.3382, Accuracy: 72.85%\n",
      "[100] Test Loss: 1.3040, Accuracy: 73.03%\n",
      "[101] Test Loss: 1.3085, Accuracy: 73.35%\n",
      "[102] Test Loss: 1.3026, Accuracy: 73.38%\n",
      "[103] Test Loss: 1.3044, Accuracy: 73.29%\n",
      "[104] Test Loss: 1.2969, Accuracy: 73.61%\n",
      "[105] Test Loss: 1.2954, Accuracy: 73.58%\n",
      "[106] Test Loss: 1.3016, Accuracy: 73.39%\n",
      "[107] Test Loss: 1.3074, Accuracy: 73.50%\n",
      "[108] Test Loss: 1.2987, Accuracy: 73.35%\n",
      "[109] Test Loss: 1.3107, Accuracy: 73.34%\n",
      "[110] Test Loss: 1.3006, Accuracy: 73.22%\n",
      "[111] Test Loss: 1.3046, Accuracy: 73.47%\n",
      "[112] Test Loss: 1.3084, Accuracy: 73.49%\n",
      "[113] Test Loss: 1.3087, Accuracy: 73.45%\n",
      "[114] Test Loss: 1.3083, Accuracy: 73.38%\n",
      "[115] Test Loss: 1.3082, Accuracy: 73.27%\n",
      "[116] Test Loss: 1.3141, Accuracy: 73.36%\n",
      "[117] Test Loss: 1.3040, Accuracy: 73.39%\n",
      "[118] Test Loss: 1.3097, Accuracy: 73.48%\n",
      "[119] Test Loss: 1.2965, Accuracy: 73.51%\n",
      "[120] Test Loss: 1.3107, Accuracy: 73.44%\n",
      "[121] Test Loss: 1.3000, Accuracy: 73.49%\n",
      "[122] Test Loss: 1.3079, Accuracy: 73.63%\n",
      "[123] Test Loss: 1.3017, Accuracy: 73.51%\n",
      "[124] Test Loss: 1.3090, Accuracy: 73.21%\n",
      "[125] Test Loss: 1.3040, Accuracy: 73.46%\n",
      "[126] Test Loss: 1.2989, Accuracy: 73.33%\n",
      "[127] Test Loss: 1.3048, Accuracy: 73.49%\n",
      "[128] Test Loss: 1.2959, Accuracy: 73.69%\n",
      "[129] Test Loss: 1.2993, Accuracy: 73.66%\n",
      "[130] Test Loss: 1.2917, Accuracy: 73.46%\n",
      "[131] Test Loss: 1.2904, Accuracy: 73.46%\n",
      "[132] Test Loss: 1.3002, Accuracy: 73.54%\n",
      "[133] Test Loss: 1.3001, Accuracy: 73.60%\n",
      "[134] Test Loss: 1.3095, Accuracy: 73.34%\n",
      "[135] Test Loss: 1.3043, Accuracy: 73.52%\n",
      "[136] Test Loss: 1.2988, Accuracy: 73.59%\n",
      "[137] Test Loss: 1.2941, Accuracy: 73.59%\n",
      "[138] Test Loss: 1.3048, Accuracy: 73.36%\n",
      "[139] Test Loss: 1.2982, Accuracy: 73.43%\n",
      "[140] Test Loss: 1.3099, Accuracy: 73.46%\n",
      "[141] Test Loss: 1.3075, Accuracy: 73.55%\n",
      "[142] Test Loss: 1.3001, Accuracy: 73.36%\n",
      "[143] Test Loss: 1.2976, Accuracy: 73.43%\n",
      "[144] Test Loss: 1.2980, Accuracy: 73.54%\n",
      "[145] Test Loss: 1.2981, Accuracy: 73.55%\n",
      "[146] Test Loss: 1.2928, Accuracy: 73.33%\n",
      "[147] Test Loss: 1.2960, Accuracy: 73.77%\n",
      "[148] Test Loss: 1.2978, Accuracy: 73.44%\n",
      "[149] Test Loss: 1.2914, Accuracy: 73.58%\n",
      "[150] Test Loss: 1.2893, Accuracy: 73.53%\n",
      "[151] Test Loss: 1.2877, Accuracy: 73.50%\n",
      "[152] Test Loss: 1.2930, Accuracy: 73.53%\n",
      "[153] Test Loss: 1.2989, Accuracy: 73.46%\n",
      "[154] Test Loss: 1.2941, Accuracy: 73.53%\n",
      "[155] Test Loss: 1.2921, Accuracy: 73.57%\n",
      "[156] Test Loss: 1.2966, Accuracy: 73.48%\n",
      "[157] Test Loss: 1.2887, Accuracy: 73.62%\n",
      "[158] Test Loss: 1.2967, Accuracy: 73.61%\n",
      "[159] Test Loss: 1.2971, Accuracy: 73.58%\n",
      "[160] Test Loss: 1.2964, Accuracy: 73.74%\n",
      "[161] Test Loss: 1.2969, Accuracy: 73.56%\n",
      "[162] Test Loss: 1.3023, Accuracy: 73.62%\n",
      "[163] Test Loss: 1.3008, Accuracy: 73.61%\n",
      "[164] Test Loss: 1.2988, Accuracy: 73.58%\n",
      "[165] Test Loss: 1.3012, Accuracy: 73.64%\n",
      "[166] Test Loss: 1.2996, Accuracy: 73.60%\n",
      "[167] Test Loss: 1.2894, Accuracy: 73.61%\n",
      "[168] Test Loss: 1.2892, Accuracy: 73.50%\n",
      "[169] Test Loss: 1.2960, Accuracy: 73.62%\n",
      "[170] Test Loss: 1.2994, Accuracy: 73.55%\n",
      "[171] Test Loss: 1.2999, Accuracy: 73.56%\n",
      "[172] Test Loss: 1.2959, Accuracy: 73.41%\n",
      "[173] Test Loss: 1.3010, Accuracy: 73.40%\n",
      "[174] Test Loss: 1.2975, Accuracy: 73.56%\n",
      "[175] Test Loss: 1.2883, Accuracy: 73.53%\n",
      "[176] Test Loss: 1.2923, Accuracy: 73.48%\n",
      "[177] Test Loss: 1.2981, Accuracy: 73.52%\n",
      "[178] Test Loss: 1.3090, Accuracy: 73.54%\n",
      "[179] Test Loss: 1.2915, Accuracy: 73.66%\n",
      "[180] Test Loss: 1.2984, Accuracy: 73.50%\n",
      "[181] Test Loss: 1.3029, Accuracy: 73.40%\n",
      "[182] Test Loss: 1.3033, Accuracy: 73.41%\n",
      "[183] Test Loss: 1.2962, Accuracy: 73.49%\n",
      "[184] Test Loss: 1.2997, Accuracy: 73.43%\n",
      "[185] Test Loss: 1.2970, Accuracy: 73.66%\n",
      "[186] Test Loss: 1.3025, Accuracy: 73.51%\n",
      "[187] Test Loss: 1.3003, Accuracy: 73.54%\n",
      "[188] Test Loss: 1.2989, Accuracy: 73.53%\n",
      "[189] Test Loss: 1.2856, Accuracy: 73.56%\n",
      "[190] Test Loss: 1.2945, Accuracy: 73.43%\n",
      "[191] Test Loss: 1.2991, Accuracy: 73.67%\n",
      "[192] Test Loss: 1.2959, Accuracy: 73.57%\n",
      "[193] Test Loss: 1.2963, Accuracy: 73.49%\n",
      "[194] Test Loss: 1.2983, Accuracy: 73.62%\n",
      "[195] Test Loss: 1.2989, Accuracy: 73.59%\n",
      "[196] Test Loss: 1.2967, Accuracy: 73.50%\n",
      "[197] Test Loss: 1.3053, Accuracy: 73.47%\n",
      "[198] Test Loss: 1.2931, Accuracy: 73.61%\n"
     ]
    },
    {
     "name": "stdout",
     "output_type": "stream",
     "text": [
      "[199] Test Loss: 1.3018, Accuracy: 73.52%\n",
      "[200] Test Loss: 1.2982, Accuracy: 73.55%\n"
     ]
    }
   ],
   "source": [
    "test_loss_history = []\n",
    "test_accuracy_history = []\n",
    "\n",
    "for epoch in range(1, EPOCHS + 1):\n",
    "    scheduler.step()        \n",
    "\n",
    "    train(model, train_loader, optimizer)\n",
    "    test_loss, test_accuracy = evaluate(model, test_loader)\n",
    "\n",
    "    test_loss_history.append(test_loss)\n",
    "    test_accuracy_history.append(test_accuracy)\n",
    "    print('[{}] Test Loss: {:.4f}, Accuracy: {:.2f}%'.format(epoch, test_loss, test_accuracy))"
   ]
  },
  {
   "cell_type": "code",
   "execution_count": 13,
   "metadata": {},
   "outputs": [],
   "source": [
    "torch.save(model.state_dict(), 'Customized_ResNet.pt')"
   ]
  },
  {
   "cell_type": "code",
   "execution_count": 14,
   "metadata": {
    "executionInfo": {
     "elapsed": 2,
     "status": "aborted",
     "timestamp": 1699207205603,
     "user": {
      "displayName": "최한얼",
      "userId": "07324773000759146887"
     },
     "user_tz": -540
    },
    "id": "6hWfmaJfFeSN"
   },
   "outputs": [
    {
     "data": {
      "image/png": "[encoded data removed]",
      "text/plain": [
       "<Figure size 1200x400 with 2 Axes>"
      ]
     },
     "metadata": {},
     "output_type": "display_data"
    }
   ],
   "source": [
    "plt.figure(figsize=(12, 4))\n",
    "\n",
    "# 그래프 1: 테스트 손실 시각화\n",
    "plt.subplot(1, 2, 1)\n",
    "plt.plot(range(1, EPOCHS + 1), test_loss_history, linestyle='-', color='b')\n",
    "plt.title('Test Loss Over Epochs')\n",
    "plt.xlabel('Epoch')\n",
    "plt.ylabel('Test Loss')\n",
    "\n",
    "# 그래프 2: 테스트 정확도 시각화\n",
    "plt.subplot(1, 2, 2)\n",
    "plt.plot(range(1, EPOCHS + 1), test_accuracy_history, linestyle='-', color='g')\n",
    "plt.title('Test Accuracy Over Epochs')\n",
    "plt.xlabel('Epoch')\n",
    "plt.ylabel('Test Accuracy (%)')\n",
    "\n",
    "plt.tight_layout()\n",
    "plt.show()"
   ]
  },
  {
   "cell_type": "code",
   "execution_count": 15,
   "metadata": {
    "id": "xSJlxIHFFfuo"
   },
   "outputs": [
    {
     "name": "stdout",
     "output_type": "stream",
     "text": [
      "최소 loss값:  1.2253319536209106\n",
      "최대 acc값:  73.77\n"
     ]
    }
   ],
   "source": [
    "print(\"최소 loss값: \", min(test_loss_history))\n",
    "print(\"최대 acc값: \", max(test_accuracy_history))\n"
   ]
  },
  {
   "cell_type": "code",
   "execution_count": null,
   "metadata": {},
   "outputs": [],
   "source": []
  }
 ],
 "metadata": {
  "accelerator": "GPU",
  "colab": {
   "authorship_tag": "ABX9TyPPYWorJIl37wa/b2CCl9AZ",
   "gpuType": "T4",
   "provenance": []
  },
  "kernelspec": {
   "display_name": "Python 3 (ipykernel)",
   "language": "python",
   "name": "python3"
  },
  "language_info": {
   "codemirror_mode": {
    "name": "ipython",
    "version": 3
   },
   "file_extension": ".py",
   "mimetype": "text/x-python",
   "name": "python",
   "nbconvert_exporter": "python",
   "pygments_lexer": "ipython3",
   "version": "3.9.12"
  }
 },
 "nbformat": 4,
 "nbformat_minor": 1
}
